{
 "cells": [
  {
   "cell_type": "code",
   "execution_count": null,
   "id": "ba549f29",
   "metadata": {},
   "outputs": [],
   "source": [
    "import pandas as pd\n",
    "from bs4 import BeautifulSoup as bs\n",
    "import requests\n",
    "import numpy as np"
   ]
  },
  {
   "cell_type": "code",
   "execution_count": null,
   "id": "4fd4e720",
   "metadata": {},
   "outputs": [],
   "source": [
    "#Enter dataset URL here\n",
    "url = 'https://www.senate.gov/legislative/LIS/roll_call_votes/vote1171/vote_117_1_00407.htm'"
   ]
  },
  {
   "cell_type": "code",
   "execution_count": null,
   "id": "4079f538",
   "metadata": {},
   "outputs": [],
   "source": [
    "response = requests.get(url)"
   ]
  },
  {
   "cell_type": "code",
   "execution_count": null,
   "id": "09acfc29",
   "metadata": {},
   "outputs": [],
   "source": [
    "soup = bs(response.content)"
   ]
  },
  {
   "cell_type": "code",
   "execution_count": null,
   "id": "f5961c3b",
   "metadata": {},
   "outputs": [],
   "source": [
    "Name = []\n",
    "Party_Name = []\n",
    "State = []\n",
    "Vote = []\n",
    "\n",
    "vote_summary = soup.find(class_ = 'newspaperDisplay_3column')\n",
    "line = [j.split(',') for j in vote_summary.text.split('\\n')]\n",
    "line = line[1:-3]\n",
    "for i in line:\n",
    "    Name.append(i[0][:-7])\n",
    "    Party_Name.append(i[0][-5])\n",
    "    State.append(i[0][-3:-1])\n",
    "    Vote.append(i[1][1:])"
   ]
  },
  {
   "cell_type": "code",
   "execution_count": null,
   "id": "7b92436b",
   "metadata": {},
   "outputs": [],
   "source": [
    "df = pd.DataFrame(list(zip(Name,Party_Name,State,Vote)),columns = ['Name','Party_Name','State','Vote'])"
   ]
  },
  {
   "cell_type": "code",
   "execution_count": null,
   "id": "8937bb39",
   "metadata": {},
   "outputs": [],
   "source": [
    "ans = {}"
   ]
  },
  {
   "cell_type": "markdown",
   "id": "0a742f02",
   "metadata": {},
   "source": [
    "## Q1"
   ]
  },
  {
   "cell_type": "code",
   "execution_count": null,
   "id": "517274db",
   "metadata": {},
   "outputs": [],
   "source": [
    "try :\n",
    "    ans[1] = pd.crosstab(df.Party_Name,df.Vote).loc['D'].loc['Not Voting']\n",
    "except:\n",
    "    ans[1] = 0"
   ]
  },
  {
   "cell_type": "code",
   "execution_count": null,
   "id": "6c77dbfe",
   "metadata": {},
   "outputs": [],
   "source": [
    "ans[1]"
   ]
  },
  {
   "cell_type": "markdown",
   "id": "04b8d08c",
   "metadata": {},
   "source": [
    "## Q2"
   ]
  },
  {
   "cell_type": "code",
   "execution_count": null,
   "id": "520233d1",
   "metadata": {},
   "outputs": [],
   "source": [
    "ans[2] = pd.crosstab(df.Party_Name,df.Vote).loc['R'].loc['Yea']"
   ]
  },
  {
   "cell_type": "code",
   "execution_count": null,
   "id": "42cd18fb",
   "metadata": {},
   "outputs": [],
   "source": [
    "ans[2]"
   ]
  },
  {
   "cell_type": "markdown",
   "id": "2ebf71c8",
   "metadata": {},
   "source": [
    "## Q3"
   ]
  },
  {
   "cell_type": "code",
   "execution_count": null,
   "id": "2d3bd2e8",
   "metadata": {
    "scrolled": true
   },
   "outputs": [],
   "source": [
    "ans[3] = df[(df.Name.apply(lambda x: True if x[0] == 'B' else False)) & (df.Vote == 'Yea')].shape[0]"
   ]
  },
  {
   "cell_type": "code",
   "execution_count": null,
   "id": "02c59a27",
   "metadata": {},
   "outputs": [],
   "source": [
    "ans[3]"
   ]
  },
  {
   "cell_type": "markdown",
   "id": "5b3f46de",
   "metadata": {},
   "source": [
    "## Q4"
   ]
  },
  {
   "cell_type": "code",
   "execution_count": null,
   "id": "95ed21c8",
   "metadata": {},
   "outputs": [],
   "source": [
    "ans[4] = (df[df.Vote == 'Yea'].groupby(['State']).count()).query('Vote == 2').shape[0]"
   ]
  },
  {
   "cell_type": "code",
   "execution_count": null,
   "id": "73d0bd75",
   "metadata": {},
   "outputs": [],
   "source": [
    "ans[4]"
   ]
  },
  {
   "cell_type": "markdown",
   "id": "3753888d",
   "metadata": {},
   "source": [
    "## Q5 "
   ]
  },
  {
   "cell_type": "code",
   "execution_count": null,
   "id": "f6573e4a",
   "metadata": {},
   "outputs": [],
   "source": [
    "try :\n",
    "    ans[5] = df[df.Vote == 'Not Voting'].groupby(['State']).count().shape[0]\n",
    "except:\n",
    "    ans[5] = 0"
   ]
  },
  {
   "cell_type": "code",
   "execution_count": null,
   "id": "4dc78ea8",
   "metadata": {},
   "outputs": [],
   "source": [
    "ans[5]"
   ]
  },
  {
   "cell_type": "markdown",
   "id": "96a5625d",
   "metadata": {},
   "source": [
    "## Q6"
   ]
  },
  {
   "cell_type": "code",
   "execution_count": null,
   "id": "5afe7f23",
   "metadata": {},
   "outputs": [],
   "source": [
    "ans[6] = (df[df.Party_Name == 'R'].groupby(['State']).count()).query('Party_Name == 2').shape[0]"
   ]
  },
  {
   "cell_type": "code",
   "execution_count": null,
   "id": "5bae2e8d",
   "metadata": {},
   "outputs": [],
   "source": [
    "ans[6]"
   ]
  },
  {
   "cell_type": "markdown",
   "id": "dfefd91b",
   "metadata": {},
   "source": [
    "## Q7"
   ]
  },
  {
   "cell_type": "code",
   "execution_count": null,
   "id": "138b0e73",
   "metadata": {},
   "outputs": [],
   "source": [
    "ans[7] = (pd.get_dummies(df,columns=['Party_Name']).groupby(['State']).sum()).query('Party_Name_R == 1 & Party_Name_D == 1').shape[0]"
   ]
  },
  {
   "cell_type": "code",
   "execution_count": null,
   "id": "b591360f",
   "metadata": {},
   "outputs": [],
   "source": [
    "ans[7]"
   ]
  },
  {
   "cell_type": "markdown",
   "id": "93988dcb",
   "metadata": {},
   "source": [
    "## Q8"
   ]
  },
  {
   "cell_type": "code",
   "execution_count": null,
   "id": "70a24ef9",
   "metadata": {
    "scrolled": true
   },
   "outputs": [],
   "source": [
    "ans[8] = df.Name.apply(lambda x : True if x[0] == 'W' else False).sum()"
   ]
  },
  {
   "cell_type": "code",
   "execution_count": null,
   "id": "592782d1",
   "metadata": {},
   "outputs": [],
   "source": [
    "ans[8]"
   ]
  },
  {
   "cell_type": "markdown",
   "id": "ac66f187",
   "metadata": {},
   "source": [
    "## Q9"
   ]
  },
  {
   "cell_type": "code",
   "execution_count": null,
   "id": "57784521",
   "metadata": {},
   "outputs": [],
   "source": [
    "major_decision = pd.crosstab(df['Party_Name'],df['Vote']).max(axis = 1).loc[['D','R']].values"
   ]
  },
  {
   "cell_type": "code",
   "execution_count": null,
   "id": "d95ec17a",
   "metadata": {},
   "outputs": [],
   "source": [
    "ans[9] = round(major_decision[0] / major_decision[1],4)"
   ]
  },
  {
   "cell_type": "code",
   "execution_count": null,
   "id": "4a3d7fcf",
   "metadata": {},
   "outputs": [],
   "source": [
    "ans[9]"
   ]
  },
  {
   "cell_type": "markdown",
   "id": "c8587774",
   "metadata": {},
   "source": [
    "## Q10"
   ]
  },
  {
   "cell_type": "code",
   "execution_count": null,
   "id": "3803bacb",
   "metadata": {},
   "outputs": [],
   "source": [
    "nayyea = pd.crosstab(df['Party_Name'],df['Vote']).astype(float)\n",
    "ph = abs(nayyea.Yea - nayyea.Nay)/nayyea.Yea"
   ]
  },
  {
   "cell_type": "code",
   "execution_count": null,
   "id": "1f11e753",
   "metadata": {},
   "outputs": [],
   "source": [
    "maximum = 0\n",
    "for i in ph:\n",
    "    if i not in [np.nan,np.infty] and i > maximum:\n",
    "        maximum = i\n",
    "        \n",
    "ans[10] = str(round(maximum,4)*100) + '%'"
   ]
  },
  {
   "cell_type": "code",
   "execution_count": null,
   "id": "be8c7c33",
   "metadata": {},
   "outputs": [],
   "source": [
    "ans[10]"
   ]
  },
  {
   "cell_type": "markdown",
   "id": "880da74c",
   "metadata": {},
   "source": [
    "## Q11"
   ]
  },
  {
   "cell_type": "code",
   "execution_count": null,
   "id": "1467bafa",
   "metadata": {},
   "outputs": [],
   "source": [
    "ans[11] = pd.crosstab(df['Party_Name'],df['Vote']).loc['D'].loc['Yea']"
   ]
  },
  {
   "cell_type": "code",
   "execution_count": null,
   "id": "5b06492e",
   "metadata": {},
   "outputs": [],
   "source": [
    "ans[11]"
   ]
  },
  {
   "cell_type": "markdown",
   "id": "ba33646d",
   "metadata": {},
   "source": [
    "## Q12"
   ]
  },
  {
   "cell_type": "code",
   "execution_count": null,
   "id": "8f0dac7d",
   "metadata": {},
   "outputs": [],
   "source": [
    "ans[12] = (df[df.Vote == 'Nay'].groupby(['State']).count()).query('Vote == 2').shape[0]\n",
    "ans[12]"
   ]
  },
  {
   "cell_type": "markdown",
   "id": "89ff3eaf",
   "metadata": {},
   "source": [
    "## Q13"
   ]
  },
  {
   "cell_type": "code",
   "execution_count": null,
   "id": "6603d078",
   "metadata": {},
   "outputs": [],
   "source": [
    "ans[13] = (pd.get_dummies(df,columns=['Party_Name']).groupby(['State']).sum()).query('Party_Name_D == 2').shape[0]\n",
    "ans[13]"
   ]
  },
  {
   "cell_type": "markdown",
   "id": "c525012a",
   "metadata": {},
   "source": [
    "## Q14"
   ]
  },
  {
   "cell_type": "code",
   "execution_count": null,
   "id": "d2d1b5a1",
   "metadata": {},
   "outputs": [],
   "source": [
    "ans[14] = df[df.Vote == 'Not Voting'].shape[0]\n",
    "ans[14]"
   ]
  },
  {
   "cell_type": "markdown",
   "id": "3eef14e8",
   "metadata": {},
   "source": [
    "## Q15"
   ]
  },
  {
   "cell_type": "code",
   "execution_count": null,
   "id": "101ca3eb",
   "metadata": {},
   "outputs": [],
   "source": [
    "ans[15] = df[df.Vote == 'Not Voting'].groupby(['State']).count().shape[0]\n",
    "ans[15]"
   ]
  },
  {
   "cell_type": "markdown",
   "id": "27f7fee4",
   "metadata": {},
   "source": [
    "## Q16"
   ]
  },
  {
   "cell_type": "code",
   "execution_count": null,
   "id": "978468ba",
   "metadata": {},
   "outputs": [],
   "source": [
    "ans[16] = df.shape[0]/df.shape[1]\n",
    "ans[16]"
   ]
  },
  {
   "cell_type": "code",
   "execution_count": null,
   "id": "11c1bc20",
   "metadata": {},
   "outputs": [],
   "source": [
    "import csv\n",
    "\n",
    "answers = []\n",
    "for i in range(1,17):\n",
    "    answers.append(['Q'+str(i),ans[i]])\n",
    "        \n",
    "\n",
    "filename = \"TDS PROJECT.csv\"\n",
    "\n",
    "with open(filename, 'w',newline='') as csvfile:  \n",
    "    csvwriter = csv.writer(csvfile,dialect='excel') \n",
    "    csvwriter.writerows(answers)"
   ]
  }
 ],
 "metadata": {
  "kernelspec": {
   "display_name": "Python 3 (ipykernel)",
   "language": "python",
   "name": "python3"
  },
  "language_info": {
   "codemirror_mode": {
    "name": "ipython",
    "version": 3
   },
   "file_extension": ".py",
   "mimetype": "text/x-python",
   "name": "python",
   "nbconvert_exporter": "python",
   "pygments_lexer": "ipython3",
   "version": "3.9.7"
  }
 },
 "nbformat": 4,
 "nbformat_minor": 5
}
